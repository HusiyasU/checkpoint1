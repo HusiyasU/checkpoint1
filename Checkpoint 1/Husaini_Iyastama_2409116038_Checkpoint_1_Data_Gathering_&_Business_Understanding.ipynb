{
  "nbformat": 4,
  "nbformat_minor": 0,
  "metadata": {
    "colab": {
      "provenance": []
    },
    "kernelspec": {
      "name": "python3",
      "display_name": "Python 3"
    },
    "language_info": {
      "name": "python"
    }
  },
  "cells": [
    {
      "cell_type": "markdown",
      "source": [
        "# **BUSINESS UNDERSTANDING**"
      ],
      "metadata": {
        "id": "oW8iZ_X-UXjv"
      }
    },
    {
      "cell_type": "markdown",
      "source": [
        "# Business Objective\n"
      ],
      "metadata": {
        "id": "HNuhgnGWUmUn"
      }
    },
    {
      "cell_type": "markdown",
      "source": [
        "Tujuan utama proyek ini adalah untuk mengetahui apa yang menyebabkan popularitas game di Steam. Dengan menganalisis data seperti rating, harga, jumlah ulasan, dan jumlah pemain, proyek ini bertujuan untuk memberikan informasi kepada pengembang dan penerbit game tentang cara meningkatkan daya tarik dan strategi pemasaran game mereka. Selain itu, proyek ini juga bertujuan untuk memperbaiki fitur game dan strategi penetapan harga yang dapat meningkatkan jumlah pemain."
      ],
      "metadata": {
        "id": "JLFxgA31Uu2f"
      }
    },
    {
      "cell_type": "markdown",
      "source": [
        "# Assess Situation"
      ],
      "metadata": {
        "id": "msdKmphMVeMm"
      }
    },
    {
      "cell_type": "markdown",
      "source": [
        "Industri game sangat kompetitif dan mengalami perkembangan tren yang cepat.  Jika preferensi pemain berubah, model bisnis game (apakah gratis atau berbayar), dan strategi promosi dapat sangat memengaruhi popularitas suatu game.  Pengembang dan penerbit game dapat menemukan cara terbaik untuk menarik pemain baru dan mempertahankan basis pemain yang sudah ada dengan mempelajari data historis dari game-game teratas di Steam.  Oleh karena itu, untuk menemukan peluang di industri game digital, analisis data ini sangat penting.\n"
      ],
      "metadata": {
        "id": "sNgCj5uJVic2"
      }
    },
    {
      "cell_type": "markdown",
      "source": [
        "# Data Mining Goals"
      ],
      "metadata": {
        "id": "6iCw868JVr7e"
      }
    },
    {
      "cell_type": "markdown",
      "source": [
        "Tujuan dari proyek ini adalah untuk mengidentifikasi komponen utama yang memengaruhi popularitas game di Steam berdasarkan jumlah pemain dengan menggunakan metode eksplorasi pola pembelian untuk mengevaluasi hubungan antara elemen pelanggan seperti rating, harga, dan jumlah ulasan terhadap jumlah pemain, serta mengumpulkan data untuk membantu pengembang dan penerbit meningkatkan strategi pemasaran dan desain game."
      ],
      "metadata": {
        "id": "gs9tQ6ZNVxrO"
      }
    },
    {
      "cell_type": "markdown",
      "source": [
        "# Project Plan"
      ],
      "metadata": {
        "id": "GQW6u0TKTcuN"
      }
    },
    {
      "cell_type": "markdown",
      "source": [
        "1. Mengumpulkan Data – Menggunakan dataset \"Top 135 Steam Games\" dari Kaggle.\n",
        "\n",
        "2. Membersihkan Data – Menghapus data yang tidak relevan atau tidak lengkap.\n",
        "\n",
        "3. Analisis Data – Melihat pola dari harga, rating, jumlah ulasan, dan jumlah pemain.\n",
        "\n",
        "4. Menarik Kesimpulan – Mengidentifikasi faktor utama yang berpengaruh pada popularitas game.\n",
        "\n",
        "5. Membuat Laporan – Menyusun hasil analisis dalam bentuk grafik dan ringkasan untuk memudahkan pemahaman.\n",
        "\n"
      ],
      "metadata": {
        "id": "-gSK01QxTgbc"
      }
    }
  ]
}